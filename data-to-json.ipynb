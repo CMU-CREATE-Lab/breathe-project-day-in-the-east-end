{
 "metadata": {
  "name": "",
  "signature": "sha256:a5d8398d90405713d5cea597b614c266264444f7aed35d5f8d3fcca40fd6c112"
 },
 "nbformat": 3,
 "nbformat_minor": 0,
 "worksheets": [
  {
   "cells": [
    {
     "cell_type": "code",
     "collapsed": false,
     "input": [
      "import datetime, dateutil.parser, json, math, urllib2\n",
      "from dateutil import tz\n",
      "from TileIndex import *"
     ],
     "language": "python",
     "metadata": {},
     "outputs": [],
     "prompt_number": 1
    },
    {
     "cell_type": "markdown",
     "metadata": {},
     "source": [
      "Fetch data for ACHD sites\n",
      "========================="
     ]
    },
    {
     "cell_type": "code",
     "collapsed": false,
     "input": [
      "def epoch_time(dt):\n",
      "    return (dt - datetime.datetime(1970, 1, 1, tzinfo=tz.tzutc())).total_seconds()\n",
      "\n",
      "def fetch_multi_tile(multifeed_name, tileindex):\n",
      "    url = 'http://esdr.cmucreatelab.org/api/v1/multifeeds/%s/tiles/%d.%d' % (multifeed_name, tileindex.level, tileindex.offset)\n",
      "    return json.loads(urllib2.urlopen(url).read())\n",
      "\n",
      "def get_achd_samples(multifeed_name, start_time, end_time):\n",
      "    sample_width = 3600\n",
      "    start_tile = TileIndex.tile_for_time_and_sample_width(start_time, sample_width)\n",
      "    end_tile = TileIndex.tile_for_time_and_sample_width(end_time, sample_width)\n",
      "    assert start_tile == end_tile # TODO: cope with this case -- need new code to iterate\n",
      "\n",
      "    tile = fetch_multi_tile(multifeed_name, start_tile)\n",
      "    new_rows = []\n",
      "    for row in tile['data']:\n",
      "        if any(x != None for x in row[1:]):\n",
      "            new_time = int((row[0] + 1024 - 1800.0) / 3600) * 3600 + 1800\n",
      "            if start_time <= new_time and new_time < end_time:\n",
      "                new_rows.append([new_time] + row[1:])\n",
      "    tile['data'] = new_rows\n",
      "    return tile\n",
      "\n",
      "def accumulate_achd_samples(multifeed_name, start_time, end_time):\n",
      "    data = get_achd_samples(multifeed_name, start_time, end_time)\n",
      "    for i, full_channel_name in enumerate(data['full_channel_names']):\n",
      "        (uid, feed, name) = full_channel_name.split('.')\n",
      "        feed_id = int(feed.split('_')[1])\n",
      "        channel_vals = [row[i + 1] for row in data['data']]\n",
      "        if any(x != None for x in channel_vals):\n",
      "            site_info[feed_id][name] = channel_vals\n",
      "\n",
      "def find_site(name):\n",
      "    for key, val in site_info.iteritems():\n",
      "        if val['name'] == name:\n",
      "            return val\n",
      "    raise Exception('Cannot find site %s' % name)\n",
      "\n",
      "def merge_sites(dest_name, add_name):\n",
      "    print 'Merging %s into %s' % (add_name, dest_name)\n",
      "    dest = find_site(dest_name)\n",
      "    add = find_site(add_name)\n",
      "    for key, val in add.iteritems():\n",
      "        if key in dest:\n",
      "            print '  Skipping key %s already in dest' % key\n",
      "        else:\n",
      "            dest[key] = val\n",
      "    del site_info[add['id']]\n",
      "\n",
      "# Get id, lat, lon, name for each feed\n",
      "url = 'http://esdr.cmucreatelab.org/api/v1/feeds?where=productId=1,minTimeSecs>0&fields=id,name,latitude,longitude'\n",
      "rows = json.loads(urllib2.urlopen(url).read())['data']['rows']\n",
      "site_info = {row['id']: row for row in rows}\n",
      "\n",
      "# Get data for each feed\n",
      "start_time = epoch_time(dateutil.parser.parse('2015-02-11').replace(tzinfo=tz.gettz('America/New_York')))\n",
      "end_time = epoch_time(dateutil.parser.parse('2015-02-12').replace(tzinfo=tz.gettz('America/New_York')))\n",
      "\n",
      "accumulate_achd_samples('achd_wind_speed', start_time, end_time)\n",
      "accumulate_achd_samples('achd_wind_direction', start_time, end_time)\n",
      "accumulate_achd_samples('achd_pm_25', start_time, end_time)\n",
      "accumulate_achd_samples('achd_pm_10', start_time, end_time)\n",
      "\n",
      "merge_sites('Lawrenceville ACHD', 'Lawrenceville 2 ACHD')\n",
      "merge_sites('Liberty ACHD', 'Liberty 2 ACHD')\n",
      "print json.dumps(site_info)"
     ],
     "language": "python",
     "metadata": {},
     "outputs": [
      {
       "output_type": "stream",
       "stream": "stdout",
       "text": [
        "Merging Lawrenceville 2 ACHD into Lawrenceville ACHD\n",
        "  Skipping key name already in dest\n",
        "  Skipping key longitude already in dest\n",
        "  Skipping key id already in dest\n",
        "  Skipping key latitude already in dest\n",
        "Merging Liberty 2 ACHD into Liberty ACHD\n",
        "  Skipping key name already in dest\n",
        "  Skipping key longitude already in dest\n",
        "  Skipping key latitude already in dest\n",
        "  Skipping key id already in dest\n",
        "{\"32\": {\"SONICWS_MPH\": [2.5, 2, 1.8, 1.5, 1.4, 2, 2.5, 3.3, 3.6, 4, 4.8, 6.4, 5.9, 5.4, 5.6, 6.1, 6.7, 6.2, 5.9, 7.4, 8.7, 8.4, 8.7, 8.6], \"longitude\": -80.169943, \"SONICWD_DEG\": [337, 330, 230, 264, 210, 222, 173, 202, 185, 198, 218, 231, 235, 235, 232, 237, 236, 245, 242, 251, 245, 247, 245, 243], \"latitude\": 40.375644, \"id\": 32, \"name\": \"South Fayette ACHD\"}, \"1\": {\"SONICWS_MPH\": [1.3, 1.7, 1.5, 1.5, 1.4, 1.7, 1.3, 1.2, 1.5, 1.8, 3.2, 3.6, 3.9, 4.6, 4.2, 4.2, 3.6, 5.7, 4.1, 7.3, 6.8, 7.3, 6.1, 5], \"longitude\": -80.071337, \"PM25B_UG_M3\": [22, 17, 17, 16, 23, 20, 16, 20, 27, 34, 19, 30, 25, 22, 19, 26, 24, 21, 21, 16, 18, 20, 24, 36], \"SONICWD_DEG\": [330, 5, 352, 341, 6, 5, 75, 301, 175, 172, 164, 255, 253, 212, 203, 222, 226, 262, 250, 258, 255, 254, 255, 225], \"latitude\": 40.499767, \"id\": 1, \"name\": \"Avalon ACHD\"}, \"34\": {\"latitude\": 40.43743055555555, \"id\": 34, \"longitude\": -79.86357222222222, \"name\": \"Near Road ACHD\"}, \"3\": {\"SONICWS_MPH\": [1.3, 1, 0.8, 0.8, 1.7, 1.1, 2.1, 1.7, 2.9, 3.2, 2.4, 2.4, 3.5, 3.2, 3.9, 3.6, 3.4, 2.6, 3.3, 2.8, 3.6, 4.9, 5, 3.7], \"longitude\": -79.860973, \"PM10B_UG_M3\": [23, 21, 29, 58, 67, 86, 52, 66, 64, 66, 56, 43, 65, 40, 45, 30, 34, 33, 40, 35, 35, 27, 34, 32], \"SONICWD_DEG\": [66, 64, 68, 44, 108, 104, 119, 137, 130, 148, 197, 247, 227, 226, 182, 195, 180, 209, 235, 239, 257, 265, 263, 226], \"latitude\": 40.402328, \"id\": 3, \"name\": \"North Braddock ACHD\"}, \"33\": {\"latitude\": 40.441111, \"id\": 33, \"longitude\": -80.26730277777779, \"name\": \"West Allegheny ACHD\"}, \"43\": {\"SONICWS_MPH\": [0.9, 0.7, 0.5, 0.4, 0.4, 0.5, 1.1, 1, 2.7, 3.9, 3.4, 4.9, 5.1, 5.1, 5.6, 5.7, 4.1, 3.9, 5.2, 5.7, 7.2, 6.6, 6.3, 6.9], \"longitude\": -79.86357222222222, \"SONICWD_DEG\": [192, 55, 118, 41, 191, 194, 121, 143, 179, 201, 213, 224, 213, 220, 229, 225, 208, 245, 240, 237, 241, 248, 252, 243], \"latitude\": 40.43743055555555, \"id\": 43, \"name\": \"Parkway East Near Road ACHD\"}, \"35\": {\"latitude\": 40.43743055555555, \"id\": 35, \"longitude\": -79.86357222222222, \"name\": \"Parkway East Near Road ACHD\"}, \"22\": {\"latitude\": 40.438632, \"id\": 22, \"longitude\": -80.002543, \"name\": \"Court House ACHD\"}, \"23\": {\"latitude\": 40.443367, \"PM10_UG_M3\": [17, 19, 23, 23, 23, 25, 23, 31, 27, 35, 41, 38, 34, 26, 26, 27, 38, 41, 30, 31, 27, 23, 21, 14], \"id\": 23, \"longitude\": -79.990293, \"name\": \"Flag Plaza ACHD\"}, \"24\": {\"latitude\": 40.326008, \"PM10_UG_M3\": [15, 16, 48, 25, 17, 41, 45, 60, 76, 42, 21, 17, 16, 17, 19, 19, 18, 21, 20, 19, 17, 17, 17, 15], \"id\": 24, \"longitude\": -79.881703, \"name\": \"Glassport High Street ACHD\"}, \"25\": {\"latitude\": 40.613949, \"id\": 25, \"longitude\": -79.72941, \"name\": \"Harrison Township ACHD\"}, \"26\": {\"RWD_DEG\": [318, 6, 341, 345, 348, 355, 355, 352, 329, 147, 196, 239, 252, 204, 219, 216, 234, 239, 221, 232, 228, 237, 237, 230], \"SONICWS_MPH\": [1.6, 1.5, 1.5, 1.5, 1.2, 1.6, 1.8, 1.6, 1.6, 1.8, 2.6, 4.8, 4.7, 5.9, 5.4, 5.9, 4.9, 7.1, 6.7, 6.6, 9.6, 8.1, 8.8, 6.8], \"PM25_2__UG_M3\": [16, 16, 19, 17, 18, 19, 20, 28, 24, 22, 19, 17, 16, 17, 16, 14, 16, 19, 17, 20, 18, 19, 18, 17], \"longitude\": -79.960757, \"name\": \"Lawrenceville ACHD\", \"PM25B_UG_M3\": [17, 18, 21, 21, 19, 23, 20, 30, 22, 27, 25, 29, 21, 25, 14, 14, 19, 20, 21, 16, 18, 20, 18, 20], \"PM10B_UG_M3\": [26, 23, 27, 29, 28, 27, 31, 44, 41, 60, 56, 58, 41, 44, 33, 34, 43, 37, 38, 34, 31, 29, 22, 26], \"SONICWD_DEG\": [319, 5, 341, 345, 347, 357, 354, 354, 330, 153, 198, 233, 253, 204, 217, 218, 235, 240, 220, 233, 228, 237, 237, 230], \"latitude\": 40.46542, \"id\": 26, \"PM25_UG_M3\": [11, 11, 13, 12, 12, 14, 14, 20, 17, 15, 13, 12, 11, 11, 11, 9, 11, 13, 11, 14, 13, 13, 12, 12], \"RWS_MPH\": [1.5, 1.3, 1.4, 1.3, 1.1, 1.5, 1.8, 1.3, 1.5, 1.2, 2.1, 4, 4.2, 4.9, 4.8, 5.2, 4.5, 6.8, 6.4, 6.4, 9.3, 7.7, 8.5, 6.6]}, \"28\": {\"SONICWS_MPH\": [1.2, 1.3, 3.9, 2.6, 1.8, 1.4, 1.7, 0.9, 3, 4.3, 3.8, 5.6, 4.1, 5.4, 6.3, 6.2, 4.6, 5.6, 6.2, 7.1, 9.4, 11.2, 9.2, 8.7], \"PM10_UG_M3\": [16, 22, 44, 44, 36, 48, 30, 28, 38, 40, 35, 24, 27, 16, 22, 28, 18, 21, 22, 15, 18, 18, 17, 15], \"PM25_2__UG_M3\": [14, 20, 36, 35, 31, 38, 26, 25, 31, 35, 27, 17, 15, 14, 13, 17, 16, 19, 15, 15, 15, 15, 16, 15], \"longitude\": -79.868062, \"SONICWD_DEG\": [319, 283, 195, 217, 215, 208, 122, 246, 179, 189, 208, 216, 203, 194, 185, 203, 216, 226, 225, 228, 237, 236, 240, 235], \"latitude\": 40.323768, \"id\": 28, \"PM25_UG_M3\": [11, 16, 29, 28, 24, 30, 21, 20, 25, 28, 22, 13, 11, 11, 9, 13, 12, 14, 12, 12, 11, 12, 13, 12], \"name\": \"Liberty ACHD\"}, \"30\": {\"name\": \"Lincoln ACHD\", \"PM10_UG_M3\": [19, 56, 34, 38, 36, 21, 25, 40, 30, 35, 31, 31, 25, 21, 20, 25, 24, 36, 43, 42, 36, 35, 41, 32], \"longitude\": -79.869134, \"latitude\": 40.308219, \"id\": 30, \"PM25_UG_M3\": [14, 39, 24, 26, 26, 18, 17, 27, 21, 24, 21, 19, 16, 14, 13, 17, 17, 23, 24, 24, 23, 23, 26, 21]}, \"31\": {\"latitude\": 40.450099, \"PM10B_UG_M3\": [21, 18, 18, 17, 27, 25, 35, 30, 32, 33, 39, 37, 34, 29, 32, 32, 27, 33, 38, 22, 25, 23, 17, 17], \"id\": 31, \"longitude\": -79.770957, \"name\": \"Monroeville ACHD\"}}\n"
       ]
      }
     ],
     "prompt_number": 48
    },
    {
     "cell_type": "code",
     "collapsed": false,
     "input": [],
     "language": "python",
     "metadata": {},
     "outputs": []
    }
   ],
   "metadata": {}
  }
 ]
}