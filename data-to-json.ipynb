{
 "metadata": {
  "name": "",
  "signature": "sha256:4e7379c00e91a16f046733576d71375faa26ff851255ed70752a3ce0e53c0e2c"
 },
 "nbformat": 3,
 "nbformat_minor": 0,
 "worksheets": [
  {
   "cells": [
    {
     "cell_type": "code",
     "collapsed": false,
     "input": [
      "import datetime, dateutil.parser, json, os, math, urllib2\n",
      "from dateutil import tz\n",
      "from TileIndex import *"
     ],
     "language": "python",
     "metadata": {},
     "outputs": [],
     "prompt_number": 24
    },
    {
     "cell_type": "markdown",
     "metadata": {},
     "source": [
      "Fetch data for ACHD sites\n",
      "========================="
     ]
    },
    {
     "cell_type": "code",
     "collapsed": false,
     "input": [
      "def epoch_time(dt):\n",
      "    return (dt - datetime.datetime(1970, 1, 1, tzinfo=tz.tzutc())).total_seconds()\n",
      "\n",
      "def fetch_multi_tile(multifeed_name, tileindex):\n",
      "    url = 'http://esdr.cmucreatelab.org/api/v1/multifeeds/%s/tiles/%d.%d' % (multifeed_name, tileindex.level, tileindex.offset)\n",
      "    return json.loads(urllib2.urlopen(url).read())\n",
      "\n",
      "def get_achd_samples(multifeed_name, start_time, end_time):\n",
      "    sample_width = 3600\n",
      "    start_tile = TileIndex.tile_for_time_and_sample_width(start_time, sample_width)\n",
      "    end_tile = TileIndex.tile_for_time_and_sample_width(end_time, sample_width)\n",
      "    assert start_tile == end_tile # TODO: cope with this case -- need new code to iterate\n",
      "\n",
      "    tile = fetch_multi_tile(multifeed_name, start_tile)\n",
      "    new_rows = []\n",
      "    for row in tile['data']:\n",
      "        if any(x != None for x in row[1:]):\n",
      "            new_time = int((row[0] + 1024 - 1800.0) / 3600) * 3600 + 1800\n",
      "            if start_time <= new_time and new_time < end_time:\n",
      "                new_rows.append([new_time] + row[1:])\n",
      "    tile['data'] = new_rows\n",
      "    return tile\n",
      "\n",
      "def accumulate_achd_samples(multifeed_name, start_time, end_time):\n",
      "    data = get_achd_samples(multifeed_name, start_time, end_time)\n",
      "    for i, full_channel_name in enumerate(data['full_channel_names']):\n",
      "        (uid, feed, name) = full_channel_name.split('.')\n",
      "        feed_id = int(feed.split('_')[1])\n",
      "        channel_vals = [row[i + 1] for row in data['data']]\n",
      "        if any(x != None for x in channel_vals):\n",
      "            site_info[feed_id][name] = channel_vals\n",
      "\n",
      "def find_site(name):\n",
      "    for key, val in site_info.iteritems():\n",
      "        if val['name'] == name:\n",
      "            return val\n",
      "    raise Exception('Cannot find site %s' % name)\n",
      "\n",
      "def merge_sites(dest_name, add_name):\n",
      "    print 'Merging %s into %s' % (add_name, dest_name)\n",
      "    dest = find_site(dest_name)\n",
      "    add = find_site(add_name)\n",
      "    for key, val in add.iteritems():\n",
      "        if key in dest:\n",
      "            print '  Skipping key %s already in dest' % key\n",
      "        else:\n",
      "            dest[key] = val\n",
      "    del site_info[add['id']]\n",
      "\n",
      "def write_json_for_date(date):\n",
      "    filename = date + '.json'\n",
      "    if os.path.exists(filename):\n",
      "        print '%s already exists, skipping' % filename\n",
      "        return\n",
      "    global site_info\n",
      "    # Get id, lat, lon, name for each feed\n",
      "    url = 'http://esdr.cmucreatelab.org/api/v1/feeds?where=productId=1,minTimeSecs>0&fields=id,name,latitude,longitude'\n",
      "    rows = json.loads(urllib2.urlopen(url).read())['data']['rows']\n",
      "    site_info = {row['id']: row for row in rows}\n",
      "\n",
      "    # Get data for each feed\n",
      "    start_datetime = dateutil.parser.parse(date).replace(tzinfo=tz.gettz('America/New_York'))\n",
      "    start_time = epoch_time(start_datetime)\n",
      "    end_time = start_time + 86400\n",
      "\n",
      "    accumulate_achd_samples('achd_wind_speed', start_time, end_time)\n",
      "    accumulate_achd_samples('achd_wind_direction', start_time, end_time)\n",
      "    accumulate_achd_samples('achd_pm_25', start_time, end_time)\n",
      "    accumulate_achd_samples('achd_pm_10', start_time, end_time)\n",
      "\n",
      "    merge_sites('Lawrenceville ACHD', 'Lawrenceville 2 ACHD')\n",
      "    merge_sites('Liberty ACHD', 'Liberty 2 ACHD')\n",
      "\n",
      "    display_times = [(start_datetime + datetime.timedelta(minutes = 30 + i*60)).strftime('%Y-%m-%d %H:%M') for i in range(0, 24)]\n",
      "    \n",
      "    data = {\n",
      "        'sites': site_info,\n",
      "        'start_time': start_time,\n",
      "        'display_times': display_times\n",
      "      }\n",
      "    open(filename, 'w').write(json.dumps(data))\n",
      "    print 'Wrote json to %s' % filename\n",
      "\n",
      "dates = ['2014-06-20',\n",
      "         '2015-02-01',\n",
      "         '2015-02-04',\n",
      "         '2015-02-05',\n",
      "         '2015-02-06',\n",
      "         '2015-02-07',\n",
      "         '2015-02-08',\n",
      "         '2015-02-09',\n",
      "         '2015-02-10',\n",
      "         '2015-02-11',\n",
      "         '2015-02-12',\n",
      "         '2015-02-13']\n",
      "\n",
      "for date in dates:\n",
      "    write_json_for_date(date)\n",
      "\n"
     ],
     "language": "python",
     "metadata": {},
     "outputs": [
      {
       "output_type": "stream",
       "stream": "stdout",
       "text": [
        "2014-06-20.json already exists, skipping\n",
        "2015-02-01.json already exists, skipping\n",
        "2015-02-04.json already exists, skipping\n",
        "2015-02-05.json already exists, skipping\n",
        "2015-02-06.json already exists, skipping\n",
        "2015-02-07.json already exists, skipping\n",
        "2015-02-08.json already exists, skipping\n",
        "2015-02-09.json already exists, skipping\n",
        "2015-02-10.json already exists, skipping\n",
        "2015-02-11.json already exists, skipping\n",
        "2015-02-12.json already exists, skipping\n",
        "2015-02-13.json already exists, skipping\n"
       ]
      }
     ],
     "prompt_number": 26
    },
    {
     "cell_type": "code",
     "collapsed": false,
     "input": [
      "def write_videos_for_date(date):\n",
      "    for hour in range(0, 24):\n",
      "        dest = 'videos/%s-%02d.mp4' % (date, hour)\n",
      "        if not os.path.exists(dest):\n",
      "            host = 'staging.timemachine-api.cmucreatelab.org'\n",
      "            root = 'http://tiles.cmucreatelab.org/breathecam/timemachines/walnuttowers1/%s.timemachine' % date\n",
      "            bounds = '2661.5431779112323,11.43005644769812,4380.604487435039,1116.6846993048407'\n",
      "            label = '%s %02d:00 to %02d:00' % (date, hour, hour + 1)\n",
      "            url = ('http://%s/thumbnail?root=%s&boundsLTRB=%s&width=640&height=480&frameTime=%f&nframes=60&format=mp4&tileFormat=mp4&label=%s' %\n",
      "                   (host, root, bounds, hour * 5 + (1.0 / 12.0), label))\n",
      "            vid = urllib2.urlopen(url).read()\n",
      "            open(dest, 'w').write(vid)\n",
      "            print 'Wrote %d bytes to %s' % (len(vid), dest)\n",
      "\n",
      "for date in dates:\n",
      "    write_videos_for_date(date)\n"
     ],
     "language": "python",
     "metadata": {},
     "outputs": [
      {
       "output_type": "stream",
       "stream": "stdout",
       "text": [
        "Wrote 3777894 bytes to videos/2014-06-20-00.mp4\n",
        "Wrote 3807776 bytes to videos/2014-06-20-01.mp4"
       ]
      },
      {
       "output_type": "stream",
       "stream": "stdout",
       "text": [
        "\n",
        "Wrote 4188980 bytes to videos/2014-06-20-02.mp4"
       ]
      },
      {
       "output_type": "stream",
       "stream": "stdout",
       "text": [
        "\n",
        "Wrote 4122994 bytes to videos/2014-06-20-03.mp4"
       ]
      },
      {
       "output_type": "stream",
       "stream": "stdout",
       "text": [
        "\n",
        "Wrote 4581324 bytes to videos/2014-06-20-04.mp4"
       ]
      },
      {
       "output_type": "stream",
       "stream": "stdout",
       "text": [
        "\n",
        "Wrote 1856664 bytes to videos/2014-06-20-05.mp4"
       ]
      },
      {
       "output_type": "stream",
       "stream": "stdout",
       "text": [
        "\n",
        "Wrote 229305 bytes to videos/2014-06-20-06.mp4"
       ]
      },
      {
       "output_type": "stream",
       "stream": "stdout",
       "text": [
        "\n",
        "Wrote 303134 bytes to videos/2014-06-20-07.mp4"
       ]
      },
      {
       "output_type": "stream",
       "stream": "stdout",
       "text": [
        "\n",
        "Wrote 376736 bytes to videos/2014-06-20-08.mp4"
       ]
      },
      {
       "output_type": "stream",
       "stream": "stdout",
       "text": [
        "\n",
        "Wrote 526175 bytes to videos/2014-06-20-09.mp4"
       ]
      },
      {
       "output_type": "stream",
       "stream": "stdout",
       "text": [
        "\n",
        "Wrote 470189 bytes to videos/2014-06-20-10.mp4"
       ]
      },
      {
       "output_type": "stream",
       "stream": "stdout",
       "text": [
        "\n",
        "Wrote 313582 bytes to videos/2014-06-20-11.mp4"
       ]
      },
      {
       "output_type": "stream",
       "stream": "stdout",
       "text": [
        "\n",
        "Wrote 251842 bytes to videos/2014-06-20-12.mp4"
       ]
      },
      {
       "output_type": "stream",
       "stream": "stdout",
       "text": [
        "\n",
        "Wrote 2875291 bytes to videos/2014-06-20-13.mp4"
       ]
      },
      {
       "output_type": "stream",
       "stream": "stdout",
       "text": [
        "\n",
        "Wrote 2763393 bytes to videos/2014-06-20-14.mp4"
       ]
      },
      {
       "output_type": "stream",
       "stream": "stdout",
       "text": [
        "\n",
        "Wrote 261 bytes to videos/2014-06-20-15.mp4"
       ]
      },
      {
       "output_type": "stream",
       "stream": "stdout",
       "text": [
        "\n",
        "Wrote 261 bytes to videos/2014-06-20-16.mp4"
       ]
      },
      {
       "output_type": "stream",
       "stream": "stdout",
       "text": [
        "\n",
        "Wrote 261 bytes to videos/2014-06-20-17.mp4"
       ]
      },
      {
       "output_type": "stream",
       "stream": "stdout",
       "text": [
        "\n",
        "Wrote 261 bytes to videos/2014-06-20-18.mp4"
       ]
      },
      {
       "output_type": "stream",
       "stream": "stdout",
       "text": [
        "\n",
        "Wrote 261 bytes to videos/2014-06-20-19.mp4"
       ]
      },
      {
       "output_type": "stream",
       "stream": "stdout",
       "text": [
        "\n",
        "Wrote 261 bytes to videos/2014-06-20-20.mp4"
       ]
      },
      {
       "output_type": "stream",
       "stream": "stdout",
       "text": [
        "\n",
        "Wrote 261 bytes to videos/2014-06-20-21.mp4"
       ]
      },
      {
       "output_type": "stream",
       "stream": "stdout",
       "text": [
        "\n",
        "Wrote 261 bytes to videos/2014-06-20-22.mp4"
       ]
      },
      {
       "output_type": "stream",
       "stream": "stdout",
       "text": [
        "\n",
        "Wrote 261 bytes to videos/2014-06-20-23.mp4"
       ]
      },
      {
       "output_type": "stream",
       "stream": "stdout",
       "text": [
        "\n",
        "Wrote 1941995 bytes to videos/2015-02-01-00.mp4"
       ]
      },
      {
       "output_type": "stream",
       "stream": "stdout",
       "text": [
        "\n",
        "Wrote 1847630 bytes to videos/2015-02-01-01.mp4"
       ]
      },
      {
       "output_type": "stream",
       "stream": "stdout",
       "text": [
        "\n",
        "Wrote 1872347 bytes to videos/2015-02-01-02.mp4"
       ]
      },
      {
       "output_type": "stream",
       "stream": "stdout",
       "text": [
        "\n",
        "Wrote 1892853 bytes to videos/2015-02-01-03.mp4"
       ]
      },
      {
       "output_type": "stream",
       "stream": "stdout",
       "text": [
        "\n",
        "Wrote 1903428 bytes to videos/2015-02-01-04.mp4"
       ]
      },
      {
       "output_type": "stream",
       "stream": "stdout",
       "text": [
        "\n",
        "Wrote 2067678 bytes to videos/2015-02-01-05.mp4"
       ]
      },
      {
       "output_type": "stream",
       "stream": "stdout",
       "text": [
        "\n",
        "Wrote 1919478 bytes to videos/2015-02-01-06.mp4"
       ]
      },
      {
       "output_type": "stream",
       "stream": "stdout",
       "text": [
        "\n",
        "Wrote 285365 bytes to videos/2015-02-01-07.mp4"
       ]
      },
      {
       "output_type": "stream",
       "stream": "stdout",
       "text": [
        "\n",
        "Wrote 202040 bytes to videos/2015-02-01-08.mp4"
       ]
      },
      {
       "output_type": "stream",
       "stream": "stdout",
       "text": [
        "\n",
        "Wrote 214164 bytes to videos/2015-02-01-09.mp4"
       ]
      },
      {
       "output_type": "stream",
       "stream": "stdout",
       "text": [
        "\n",
        "Wrote 259783 bytes to videos/2015-02-01-10.mp4"
       ]
      },
      {
       "output_type": "stream",
       "stream": "stdout",
       "text": [
        "\n",
        "Wrote 231971 bytes to videos/2015-02-01-11.mp4"
       ]
      },
      {
       "output_type": "stream",
       "stream": "stdout",
       "text": [
        "\n",
        "Wrote 204697 bytes to videos/2015-02-01-12.mp4"
       ]
      },
      {
       "output_type": "stream",
       "stream": "stdout",
       "text": [
        "\n",
        "Wrote 216120 bytes to videos/2015-02-01-13.mp4"
       ]
      },
      {
       "output_type": "stream",
       "stream": "stdout",
       "text": [
        "\n",
        "Wrote 264046 bytes to videos/2015-02-01-14.mp4"
       ]
      },
      {
       "output_type": "stream",
       "stream": "stdout",
       "text": [
        "\n",
        "Wrote 243545 bytes to videos/2015-02-01-15.mp4"
       ]
      },
      {
       "output_type": "stream",
       "stream": "stdout",
       "text": [
        "\n",
        "Wrote 224216 bytes to videos/2015-02-01-16.mp4"
       ]
      },
      {
       "output_type": "stream",
       "stream": "stdout",
       "text": [
        "\n",
        "Wrote 337547 bytes to videos/2015-02-01-17.mp4"
       ]
      },
      {
       "output_type": "stream",
       "stream": "stdout",
       "text": [
        "\n",
        "Wrote 1069100 bytes to videos/2015-02-01-18.mp4"
       ]
      },
      {
       "output_type": "stream",
       "stream": "stdout",
       "text": [
        "\n",
        "Wrote 1212338 bytes to videos/2015-02-01-19.mp4"
       ]
      },
      {
       "output_type": "stream",
       "stream": "stdout",
       "text": [
        "\n",
        "Wrote 1310334 bytes to videos/2015-02-01-20.mp4"
       ]
      },
      {
       "output_type": "stream",
       "stream": "stdout",
       "text": [
        "\n",
        "Wrote 1499460 bytes to videos/2015-02-01-21.mp4"
       ]
      },
      {
       "output_type": "stream",
       "stream": "stdout",
       "text": [
        "\n",
        "Wrote 1646826 bytes to videos/2015-02-01-22.mp4"
       ]
      },
      {
       "output_type": "stream",
       "stream": "stdout",
       "text": [
        "\n",
        "Wrote 1972006 bytes to videos/2015-02-01-23.mp4"
       ]
      },
      {
       "output_type": "stream",
       "stream": "stdout",
       "text": [
        "\n",
        "Wrote 2041429 bytes to videos/2015-02-04-00.mp4"
       ]
      },
      {
       "output_type": "stream",
       "stream": "stdout",
       "text": [
        "\n",
        "Wrote 1974981 bytes to videos/2015-02-04-01.mp4"
       ]
      },
      {
       "output_type": "stream",
       "stream": "stdout",
       "text": [
        "\n",
        "Wrote 1837479 bytes to videos/2015-02-04-02.mp4"
       ]
      },
      {
       "output_type": "stream",
       "stream": "stdout",
       "text": [
        "\n",
        "Wrote 1697252 bytes to videos/2015-02-04-03.mp4"
       ]
      },
      {
       "output_type": "stream",
       "stream": "stdout",
       "text": [
        "\n",
        "Wrote 1678135 bytes to videos/2015-02-04-04.mp4"
       ]
      },
      {
       "output_type": "stream",
       "stream": "stdout",
       "text": [
        "\n",
        "Wrote 1739986 bytes to videos/2015-02-04-05.mp4"
       ]
      },
      {
       "output_type": "stream",
       "stream": "stdout",
       "text": [
        "\n",
        "Wrote 1601846 bytes to videos/2015-02-04-06.mp4"
       ]
      },
      {
       "output_type": "stream",
       "stream": "stdout",
       "text": [
        "\n",
        "Wrote 457003 bytes to videos/2015-02-04-07.mp4"
       ]
      },
      {
       "output_type": "stream",
       "stream": "stdout",
       "text": [
        "\n",
        "Wrote 361023 bytes to videos/2015-02-04-08.mp4"
       ]
      },
      {
       "output_type": "stream",
       "stream": "stdout",
       "text": [
        "\n",
        "Wrote 337222 bytes to videos/2015-02-04-09.mp4"
       ]
      },
      {
       "output_type": "stream",
       "stream": "stdout",
       "text": [
        "\n",
        "Wrote 323171 bytes to videos/2015-02-04-10.mp4"
       ]
      },
      {
       "output_type": "stream",
       "stream": "stdout",
       "text": [
        "\n",
        "Wrote 338992 bytes to videos/2015-02-04-11.mp4"
       ]
      },
      {
       "output_type": "stream",
       "stream": "stdout",
       "text": [
        "\n",
        "Wrote 310988 bytes to videos/2015-02-04-12.mp4"
       ]
      },
      {
       "output_type": "stream",
       "stream": "stdout",
       "text": [
        "\n",
        "Wrote 225436 bytes to videos/2015-02-04-13.mp4"
       ]
      },
      {
       "output_type": "stream",
       "stream": "stdout",
       "text": [
        "\n",
        "Wrote 328127 bytes to videos/2015-02-04-14.mp4"
       ]
      },
      {
       "output_type": "stream",
       "stream": "stdout",
       "text": [
        "\n",
        "Wrote 312736 bytes to videos/2015-02-04-15.mp4"
       ]
      },
      {
       "output_type": "stream",
       "stream": "stdout",
       "text": [
        "\n",
        "Wrote 282224 bytes to videos/2015-02-04-16.mp4"
       ]
      },
      {
       "output_type": "stream",
       "stream": "stdout",
       "text": [
        "\n",
        "Wrote 324253 bytes to videos/2015-02-04-17.mp4"
       ]
      },
      {
       "output_type": "stream",
       "stream": "stdout",
       "text": [
        "\n",
        "Wrote 1750602 bytes to videos/2015-02-04-18.mp4"
       ]
      },
      {
       "output_type": "stream",
       "stream": "stdout",
       "text": [
        "\n",
        "Wrote 1825126 bytes to videos/2015-02-04-19.mp4"
       ]
      },
      {
       "output_type": "stream",
       "stream": "stdout",
       "text": [
        "\n",
        "Wrote 2019507 bytes to videos/2015-02-04-20.mp4"
       ]
      },
      {
       "output_type": "stream",
       "stream": "stdout",
       "text": [
        "\n",
        "Wrote 2043153 bytes to videos/2015-02-04-21.mp4"
       ]
      },
      {
       "output_type": "stream",
       "stream": "stdout",
       "text": [
        "\n",
        "Wrote 2174416 bytes to videos/2015-02-04-22.mp4"
       ]
      },
      {
       "output_type": "stream",
       "stream": "stdout",
       "text": [
        "\n",
        "Wrote 1840405 bytes to videos/2015-02-04-23.mp4"
       ]
      },
      {
       "output_type": "stream",
       "stream": "stdout",
       "text": [
        "\n",
        "Wrote 1097908 bytes to videos/2015-02-05-00.mp4"
       ]
      },
      {
       "output_type": "stream",
       "stream": "stdout",
       "text": [
        "\n",
        "Wrote 841077 bytes to videos/2015-02-05-01.mp4"
       ]
      },
      {
       "output_type": "stream",
       "stream": "stdout",
       "text": [
        "\n",
        "Wrote 870517 bytes to videos/2015-02-05-02.mp4"
       ]
      },
      {
       "output_type": "stream",
       "stream": "stdout",
       "text": [
        "\n",
        "Wrote 913257 bytes to videos/2015-02-05-03.mp4"
       ]
      },
      {
       "output_type": "stream",
       "stream": "stdout",
       "text": [
        "\n",
        "Wrote 1496623 bytes to videos/2015-02-05-04.mp4"
       ]
      },
      {
       "output_type": "stream",
       "stream": "stdout",
       "text": [
        "\n",
        "Wrote 1723718 bytes to videos/2015-02-05-05.mp4"
       ]
      },
      {
       "output_type": "stream",
       "stream": "stdout",
       "text": [
        "\n",
        "Wrote 1642527 bytes to videos/2015-02-05-06.mp4"
       ]
      },
      {
       "output_type": "stream",
       "stream": "stdout",
       "text": [
        "\n",
        "Wrote 450276 bytes to videos/2015-02-05-07.mp4"
       ]
      },
      {
       "output_type": "stream",
       "stream": "stdout",
       "text": [
        "\n",
        "Wrote 375015 bytes to videos/2015-02-05-08.mp4"
       ]
      },
      {
       "output_type": "stream",
       "stream": "stdout",
       "text": [
        "\n",
        "Wrote 411298 bytes to videos/2015-02-05-09.mp4"
       ]
      },
      {
       "output_type": "stream",
       "stream": "stdout",
       "text": [
        "\n",
        "Wrote 584341 bytes to videos/2015-02-05-10.mp4"
       ]
      },
      {
       "output_type": "stream",
       "stream": "stdout",
       "text": [
        "\n",
        "Wrote 647305 bytes to videos/2015-02-05-11.mp4"
       ]
      },
      {
       "output_type": "stream",
       "stream": "stdout",
       "text": [
        "\n",
        "Wrote 480072 bytes to videos/2015-02-05-12.mp4"
       ]
      },
      {
       "output_type": "stream",
       "stream": "stdout",
       "text": [
        "\n",
        "Wrote 311514 bytes to videos/2015-02-05-13.mp4"
       ]
      },
      {
       "output_type": "stream",
       "stream": "stdout",
       "text": [
        "\n",
        "Wrote 261075 bytes to videos/2015-02-05-14.mp4"
       ]
      },
      {
       "output_type": "stream",
       "stream": "stdout",
       "text": [
        "\n",
        "Wrote 193401 bytes to videos/2015-02-05-15.mp4"
       ]
      },
      {
       "output_type": "stream",
       "stream": "stdout",
       "text": [
        "\n",
        "Wrote 213272 bytes to videos/2015-02-05-16.mp4"
       ]
      },
      {
       "output_type": "stream",
       "stream": "stdout",
       "text": [
        "\n",
        "Wrote 267490 bytes to videos/2015-02-05-17.mp4"
       ]
      },
      {
       "output_type": "stream",
       "stream": "stdout",
       "text": [
        "\n",
        "Wrote 1284328 bytes to videos/2015-02-05-18.mp4"
       ]
      },
      {
       "output_type": "stream",
       "stream": "stdout",
       "text": [
        "\n",
        "Wrote 1185605 bytes to videos/2015-02-05-19.mp4"
       ]
      },
      {
       "output_type": "stream",
       "stream": "stdout",
       "text": [
        "\n",
        "Wrote 1302925 bytes to videos/2015-02-05-20.mp4"
       ]
      },
      {
       "output_type": "stream",
       "stream": "stdout",
       "text": [
        "\n",
        "Wrote 1480946 bytes to videos/2015-02-05-21.mp4"
       ]
      },
      {
       "output_type": "stream",
       "stream": "stdout",
       "text": [
        "\n",
        "Wrote 1425779 bytes to videos/2015-02-05-22.mp4"
       ]
      },
      {
       "output_type": "stream",
       "stream": "stdout",
       "text": [
        "\n",
        "Wrote 1419923 bytes to videos/2015-02-05-23.mp4"
       ]
      },
      {
       "output_type": "stream",
       "stream": "stdout",
       "text": [
        "\n",
        "Wrote 1424942 bytes to videos/2015-02-06-00.mp4"
       ]
      },
      {
       "output_type": "stream",
       "stream": "stdout",
       "text": [
        "\n",
        "Wrote 1344461 bytes to videos/2015-02-06-01.mp4"
       ]
      },
      {
       "output_type": "stream",
       "stream": "stdout",
       "text": [
        "\n",
        "Wrote 1256349 bytes to videos/2015-02-06-02.mp4"
       ]
      },
      {
       "output_type": "stream",
       "stream": "stdout",
       "text": [
        "\n",
        "Wrote 1477005 bytes to videos/2015-02-06-03.mp4"
       ]
      },
      {
       "output_type": "stream",
       "stream": "stdout",
       "text": [
        "\n",
        "Wrote 1551474 bytes to videos/2015-02-06-04.mp4"
       ]
      },
      {
       "output_type": "stream",
       "stream": "stdout",
       "text": [
        "\n",
        "Wrote 1401215 bytes to videos/2015-02-06-05.mp4"
       ]
      },
      {
       "output_type": "stream",
       "stream": "stdout",
       "text": [
        "\n",
        "Wrote 1434131 bytes to videos/2015-02-06-06.mp4"
       ]
      },
      {
       "output_type": "stream",
       "stream": "stdout",
       "text": [
        "\n",
        "Wrote 433787 bytes to videos/2015-02-06-07.mp4"
       ]
      },
      {
       "output_type": "stream",
       "stream": "stdout",
       "text": [
        "\n",
        "Wrote 341805 bytes to videos/2015-02-06-08.mp4"
       ]
      },
      {
       "output_type": "stream",
       "stream": "stdout",
       "text": [
        "\n",
        "Wrote 393543 bytes to videos/2015-02-06-09.mp4"
       ]
      },
      {
       "output_type": "stream",
       "stream": "stdout",
       "text": [
        "\n",
        "Wrote 578481 bytes to videos/2015-02-06-10.mp4"
       ]
      },
      {
       "output_type": "stream",
       "stream": "stdout",
       "text": [
        "\n",
        "Wrote 421148 bytes to videos/2015-02-06-11.mp4"
       ]
      },
      {
       "output_type": "stream",
       "stream": "stdout",
       "text": [
        "\n",
        "Wrote 272225 bytes to videos/2015-02-06-12.mp4"
       ]
      },
      {
       "output_type": "stream",
       "stream": "stdout",
       "text": [
        "\n",
        "Wrote 289673 bytes to videos/2015-02-06-13.mp4"
       ]
      },
      {
       "output_type": "stream",
       "stream": "stdout",
       "text": [
        "\n",
        "Wrote 341008 bytes to videos/2015-02-06-14.mp4"
       ]
      },
      {
       "output_type": "stream",
       "stream": "stdout",
       "text": [
        "\n",
        "Wrote 280287 bytes to videos/2015-02-06-15.mp4"
       ]
      },
      {
       "output_type": "stream",
       "stream": "stdout",
       "text": [
        "\n",
        "Wrote 263656 bytes to videos/2015-02-06-16.mp4"
       ]
      },
      {
       "output_type": "stream",
       "stream": "stdout",
       "text": [
        "\n",
        "Wrote 266542 bytes to videos/2015-02-06-17.mp4"
       ]
      },
      {
       "output_type": "stream",
       "stream": "stdout",
       "text": [
        "\n",
        "Wrote 1243522 bytes to videos/2015-02-06-18.mp4"
       ]
      },
      {
       "output_type": "stream",
       "stream": "stdout",
       "text": [
        "\n",
        "Wrote 1123360 bytes to videos/2015-02-06-19.mp4"
       ]
      },
      {
       "output_type": "stream",
       "stream": "stdout",
       "text": [
        "\n",
        "Wrote 1104396 bytes to videos/2015-02-06-20.mp4"
       ]
      },
      {
       "output_type": "stream",
       "stream": "stdout",
       "text": [
        "\n",
        "Wrote 1443154 bytes to videos/2015-02-06-21.mp4"
       ]
      },
      {
       "output_type": "stream",
       "stream": "stdout",
       "text": [
        "\n",
        "Wrote 1627257 bytes to videos/2015-02-06-22.mp4"
       ]
      },
      {
       "output_type": "stream",
       "stream": "stdout",
       "text": [
        "\n",
        "Wrote 1614322 bytes to videos/2015-02-06-23.mp4"
       ]
      },
      {
       "output_type": "stream",
       "stream": "stdout",
       "text": [
        "\n",
        "Wrote 1554596 bytes to videos/2015-02-07-00.mp4"
       ]
      },
      {
       "output_type": "stream",
       "stream": "stdout",
       "text": [
        "\n",
        "Wrote 1565957 bytes to videos/2015-02-07-01.mp4"
       ]
      },
      {
       "output_type": "stream",
       "stream": "stdout",
       "text": [
        "\n",
        "Wrote 1549736 bytes to videos/2015-02-07-02.mp4"
       ]
      },
      {
       "output_type": "stream",
       "stream": "stdout",
       "text": [
        "\n",
        "Wrote 1519418 bytes to videos/2015-02-07-03.mp4"
       ]
      },
      {
       "output_type": "stream",
       "stream": "stdout",
       "text": [
        "\n",
        "Wrote 1288255 bytes to videos/2015-02-07-04.mp4"
       ]
      },
      {
       "output_type": "stream",
       "stream": "stdout",
       "text": [
        "\n",
        "Wrote 1570472 bytes to videos/2015-02-07-05.mp4"
       ]
      },
      {
       "output_type": "stream",
       "stream": "stdout",
       "text": [
        "\n",
        "Wrote 1626134 bytes to videos/2015-02-07-06.mp4"
       ]
      },
      {
       "output_type": "stream",
       "stream": "stdout",
       "text": [
        "\n",
        "Wrote 395289 bytes to videos/2015-02-07-07.mp4"
       ]
      },
      {
       "output_type": "stream",
       "stream": "stdout",
       "text": [
        "\n",
        "Wrote 399654 bytes to videos/2015-02-07-08.mp4"
       ]
      },
      {
       "output_type": "stream",
       "stream": "stdout",
       "text": [
        "\n",
        "Wrote 393197 bytes to videos/2015-02-07-09.mp4"
       ]
      },
      {
       "output_type": "stream",
       "stream": "stdout",
       "text": [
        "\n",
        "Wrote 308274 bytes to videos/2015-02-07-10.mp4"
       ]
      },
      {
       "output_type": "stream",
       "stream": "stdout",
       "text": [
        "\n",
        "Wrote 338066 bytes to videos/2015-02-07-11.mp4"
       ]
      },
      {
       "output_type": "stream",
       "stream": "stdout",
       "text": [
        "\n",
        "Wrote 358018 bytes to videos/2015-02-07-12.mp4"
       ]
      },
      {
       "output_type": "stream",
       "stream": "stdout",
       "text": [
        "\n",
        "Wrote 310930 bytes to videos/2015-02-07-13.mp4"
       ]
      },
      {
       "output_type": "stream",
       "stream": "stdout",
       "text": [
        "\n",
        "Wrote 294322 bytes to videos/2015-02-07-14.mp4"
       ]
      },
      {
       "output_type": "stream",
       "stream": "stdout",
       "text": [
        "\n",
        "Wrote 202402 bytes to videos/2015-02-07-15.mp4"
       ]
      },
      {
       "output_type": "stream",
       "stream": "stdout",
       "text": [
        "\n",
        "Wrote 288600 bytes to videos/2015-02-07-16.mp4"
       ]
      },
      {
       "output_type": "stream",
       "stream": "stdout",
       "text": [
        "\n",
        "Wrote 313622 bytes to videos/2015-02-07-17.mp4"
       ]
      },
      {
       "output_type": "stream",
       "stream": "stdout",
       "text": [
        "\n",
        "Wrote 1129375 bytes to videos/2015-02-07-18.mp4"
       ]
      },
      {
       "output_type": "stream",
       "stream": "stdout",
       "text": [
        "\n",
        "Wrote 1059553 bytes to videos/2015-02-07-19.mp4"
       ]
      },
      {
       "output_type": "stream",
       "stream": "stdout",
       "text": [
        "\n",
        "Wrote 934762 bytes to videos/2015-02-07-20.mp4"
       ]
      },
      {
       "output_type": "stream",
       "stream": "stdout",
       "text": [
        "\n",
        "Wrote 942958 bytes to videos/2015-02-07-21.mp4"
       ]
      },
      {
       "output_type": "stream",
       "stream": "stdout",
       "text": [
        "\n",
        "Wrote 1120125 bytes to videos/2015-02-07-22.mp4"
       ]
      },
      {
       "output_type": "stream",
       "stream": "stdout",
       "text": [
        "\n",
        "Wrote 1276216 bytes to videos/2015-02-07-23.mp4"
       ]
      },
      {
       "output_type": "stream",
       "stream": "stdout",
       "text": [
        "\n",
        "Wrote 1286839 bytes to videos/2015-02-08-00.mp4"
       ]
      },
      {
       "output_type": "stream",
       "stream": "stdout",
       "text": [
        "\n",
        "Wrote 1216801 bytes to videos/2015-02-08-01.mp4"
       ]
      },
      {
       "output_type": "stream",
       "stream": "stdout",
       "text": [
        "\n",
        "Wrote 1214171 bytes to videos/2015-02-08-02.mp4"
       ]
      },
      {
       "output_type": "stream",
       "stream": "stdout",
       "text": [
        "\n",
        "Wrote 1124478 bytes to videos/2015-02-08-03.mp4"
       ]
      },
      {
       "output_type": "stream",
       "stream": "stdout",
       "text": [
        "\n",
        "Wrote 1092444 bytes to videos/2015-02-08-04.mp4"
       ]
      },
      {
       "output_type": "stream",
       "stream": "stdout",
       "text": [
        "\n",
        "Wrote 1039475 bytes to videos/2015-02-08-05.mp4"
       ]
      },
      {
       "output_type": "stream",
       "stream": "stdout",
       "text": [
        "\n",
        "Wrote 1200332 bytes to videos/2015-02-08-06.mp4"
       ]
      },
      {
       "output_type": "stream",
       "stream": "stdout",
       "text": [
        "\n",
        "Wrote 380097 bytes to videos/2015-02-08-07.mp4"
       ]
      },
      {
       "output_type": "stream",
       "stream": "stdout",
       "text": [
        "\n",
        "Wrote 336618 bytes to videos/2015-02-08-08.mp4"
       ]
      },
      {
       "output_type": "stream",
       "stream": "stdout",
       "text": [
        "\n",
        "Wrote 311148 bytes to videos/2015-02-08-09.mp4"
       ]
      },
      {
       "output_type": "stream",
       "stream": "stdout",
       "text": [
        "\n",
        "Wrote 332906 bytes to videos/2015-02-08-10.mp4"
       ]
      },
      {
       "output_type": "stream",
       "stream": "stdout",
       "text": [
        "\n",
        "Wrote 306849 bytes to videos/2015-02-08-11.mp4"
       ]
      },
      {
       "output_type": "stream",
       "stream": "stdout",
       "text": [
        "\n",
        "Wrote 263149 bytes to videos/2015-02-08-12.mp4"
       ]
      },
      {
       "output_type": "stream",
       "stream": "stdout",
       "text": [
        "\n",
        "Wrote 295187 bytes to videos/2015-02-08-13.mp4"
       ]
      },
      {
       "output_type": "stream",
       "stream": "stdout",
       "text": [
        "\n",
        "Wrote 301050 bytes to videos/2015-02-08-14.mp4"
       ]
      },
      {
       "output_type": "stream",
       "stream": "stdout",
       "text": [
        "\n",
        "Wrote 303827 bytes to videos/2015-02-08-15.mp4"
       ]
      },
      {
       "output_type": "stream",
       "stream": "stdout",
       "text": [
        "\n",
        "Wrote 280801 bytes to videos/2015-02-08-16.mp4"
       ]
      },
      {
       "output_type": "stream",
       "stream": "stdout",
       "text": [
        "\n",
        "Wrote 342983 bytes to videos/2015-02-08-17.mp4"
       ]
      },
      {
       "output_type": "stream",
       "stream": "stdout",
       "text": [
        "\n",
        "Wrote 1635242 bytes to videos/2015-02-08-18.mp4"
       ]
      },
      {
       "output_type": "stream",
       "stream": "stdout",
       "text": [
        "\n",
        "Wrote 1770131 bytes to videos/2015-02-08-19.mp4"
       ]
      },
      {
       "output_type": "stream",
       "stream": "stdout",
       "text": [
        "\n",
        "Wrote 1923802 bytes to videos/2015-02-08-20.mp4"
       ]
      },
      {
       "output_type": "stream",
       "stream": "stdout",
       "text": [
        "\n",
        "Wrote 1844532 bytes to videos/2015-02-08-21.mp4"
       ]
      },
      {
       "output_type": "stream",
       "stream": "stdout",
       "text": [
        "\n",
        "Wrote 1863073 bytes to videos/2015-02-08-22.mp4"
       ]
      },
      {
       "output_type": "stream",
       "stream": "stdout",
       "text": [
        "\n",
        "Wrote 1526305 bytes to videos/2015-02-08-23.mp4"
       ]
      },
      {
       "output_type": "stream",
       "stream": "stdout",
       "text": [
        "\n",
        "Wrote 1717054 bytes to videos/2015-02-09-00.mp4"
       ]
      },
      {
       "output_type": "stream",
       "stream": "stdout",
       "text": [
        "\n",
        "Wrote 1769405 bytes to videos/2015-02-09-01.mp4"
       ]
      },
      {
       "output_type": "stream",
       "stream": "stdout",
       "text": [
        "\n",
        "Wrote 1912630 bytes to videos/2015-02-09-02.mp4"
       ]
      },
      {
       "output_type": "stream",
       "stream": "stdout",
       "text": [
        "\n",
        "Wrote 1783161 bytes to videos/2015-02-09-03.mp4"
       ]
      },
      {
       "output_type": "stream",
       "stream": "stdout",
       "text": [
        "\n",
        "Wrote 1735534 bytes to videos/2015-02-09-04.mp4"
       ]
      },
      {
       "output_type": "stream",
       "stream": "stdout",
       "text": [
        "\n",
        "Wrote 1866790 bytes to videos/2015-02-09-05.mp4"
       ]
      },
      {
       "output_type": "stream",
       "stream": "stdout",
       "text": [
        "\n",
        "Wrote 1572773 bytes to videos/2015-02-09-06.mp4"
       ]
      },
      {
       "output_type": "stream",
       "stream": "stdout",
       "text": [
        "\n",
        "Wrote 300943 bytes to videos/2015-02-09-07.mp4"
       ]
      },
      {
       "output_type": "stream",
       "stream": "stdout",
       "text": [
        "\n",
        "Wrote 247900 bytes to videos/2015-02-09-08.mp4"
       ]
      },
      {
       "output_type": "stream",
       "stream": "stdout",
       "text": [
        "\n",
        "Wrote 230427 bytes to videos/2015-02-09-09.mp4"
       ]
      },
      {
       "output_type": "stream",
       "stream": "stdout",
       "text": [
        "\n",
        "Wrote 214743 bytes to videos/2015-02-09-10.mp4"
       ]
      },
      {
       "output_type": "stream",
       "stream": "stdout",
       "text": [
        "\n",
        "Wrote 229333 bytes to videos/2015-02-09-11.mp4"
       ]
      },
      {
       "output_type": "stream",
       "stream": "stdout",
       "text": [
        "\n",
        "Wrote 234763 bytes to videos/2015-02-09-12.mp4"
       ]
      },
      {
       "output_type": "stream",
       "stream": "stdout",
       "text": [
        "\n",
        "Wrote 223529 bytes to videos/2015-02-09-13.mp4"
       ]
      },
      {
       "output_type": "stream",
       "stream": "stdout",
       "text": [
        "\n",
        "Wrote 232071 bytes to videos/2015-02-09-14.mp4"
       ]
      },
      {
       "output_type": "stream",
       "stream": "stdout",
       "text": [
        "\n",
        "Wrote 241624 bytes to videos/2015-02-09-15.mp4"
       ]
      },
      {
       "output_type": "stream",
       "stream": "stdout",
       "text": [
        "\n",
        "Wrote 242916 bytes to videos/2015-02-09-16.mp4"
       ]
      },
      {
       "output_type": "stream",
       "stream": "stdout",
       "text": [
        "\n",
        "Wrote 295868 bytes to videos/2015-02-09-17.mp4"
       ]
      },
      {
       "output_type": "stream",
       "stream": "stdout",
       "text": [
        "\n",
        "Wrote 1667736 bytes to videos/2015-02-09-18.mp4"
       ]
      },
      {
       "output_type": "stream",
       "stream": "stdout",
       "text": [
        "\n",
        "Wrote 1800170 bytes to videos/2015-02-09-19.mp4"
       ]
      },
      {
       "output_type": "stream",
       "stream": "stdout",
       "text": [
        "\n",
        "Wrote 1774377 bytes to videos/2015-02-09-20.mp4"
       ]
      },
      {
       "output_type": "stream",
       "stream": "stdout",
       "text": [
        "\n",
        "Wrote 1781774 bytes to videos/2015-02-09-21.mp4"
       ]
      },
      {
       "output_type": "stream",
       "stream": "stdout",
       "text": [
        "\n",
        "Wrote 1800108 bytes to videos/2015-02-09-22.mp4"
       ]
      },
      {
       "output_type": "stream",
       "stream": "stdout",
       "text": [
        "\n",
        "Wrote 1476206 bytes to videos/2015-02-09-23.mp4"
       ]
      },
      {
       "output_type": "stream",
       "stream": "stdout",
       "text": [
        "\n",
        "Wrote 1764429 bytes to videos/2015-02-10-00.mp4"
       ]
      },
      {
       "output_type": "stream",
       "stream": "stdout",
       "text": [
        "\n",
        "Wrote 1797997 bytes to videos/2015-02-10-01.mp4"
       ]
      },
      {
       "output_type": "stream",
       "stream": "stdout",
       "text": [
        "\n",
        "Wrote 1806846 bytes to videos/2015-02-10-02.mp4"
       ]
      },
      {
       "output_type": "stream",
       "stream": "stdout",
       "text": [
        "\n",
        "Wrote 1767201 bytes to videos/2015-02-10-03.mp4"
       ]
      },
      {
       "output_type": "stream",
       "stream": "stdout",
       "text": [
        "\n",
        "Wrote 1786038 bytes to videos/2015-02-10-04.mp4"
       ]
      },
      {
       "output_type": "stream",
       "stream": "stdout",
       "text": [
        "\n",
        "Wrote 1858468 bytes to videos/2015-02-10-05.mp4"
       ]
      },
      {
       "output_type": "stream",
       "stream": "stdout",
       "text": [
        "\n",
        "Wrote 1682361 bytes to videos/2015-02-10-06.mp4"
       ]
      },
      {
       "output_type": "stream",
       "stream": "stdout",
       "text": [
        "\n",
        "Wrote 358560 bytes to videos/2015-02-10-07.mp4"
       ]
      },
      {
       "output_type": "stream",
       "stream": "stdout",
       "text": [
        "\n",
        "Wrote 267466 bytes to videos/2015-02-10-08.mp4"
       ]
      },
      {
       "output_type": "stream",
       "stream": "stdout",
       "text": [
        "\n",
        "Wrote 259887 bytes to videos/2015-02-10-09.mp4"
       ]
      },
      {
       "output_type": "stream",
       "stream": "stdout",
       "text": [
        "\n",
        "Wrote 269169 bytes to videos/2015-02-10-10.mp4"
       ]
      },
      {
       "output_type": "stream",
       "stream": "stdout",
       "text": [
        "\n",
        "Wrote 341559 bytes to videos/2015-02-10-11.mp4"
       ]
      },
      {
       "output_type": "stream",
       "stream": "stdout",
       "text": [
        "\n",
        "Wrote 344370 bytes to videos/2015-02-10-12.mp4"
       ]
      },
      {
       "output_type": "stream",
       "stream": "stdout",
       "text": [
        "\n",
        "Wrote 358776 bytes to videos/2015-02-10-13.mp4"
       ]
      },
      {
       "output_type": "stream",
       "stream": "stdout",
       "text": [
        "\n",
        "Wrote 318130 bytes to videos/2015-02-10-14.mp4"
       ]
      },
      {
       "output_type": "stream",
       "stream": "stdout",
       "text": [
        "\n",
        "Wrote 251270 bytes to videos/2015-02-10-15.mp4"
       ]
      },
      {
       "output_type": "stream",
       "stream": "stdout",
       "text": [
        "\n",
        "Wrote 213583 bytes to videos/2015-02-10-16.mp4"
       ]
      },
      {
       "output_type": "stream",
       "stream": "stdout",
       "text": [
        "\n",
        "Wrote 242346 bytes to videos/2015-02-10-17.mp4"
       ]
      },
      {
       "output_type": "stream",
       "stream": "stdout",
       "text": [
        "\n",
        "Wrote 744606 bytes to videos/2015-02-10-18.mp4"
       ]
      },
      {
       "output_type": "stream",
       "stream": "stdout",
       "text": [
        "\n",
        "Wrote 461559 bytes to videos/2015-02-10-19.mp4"
       ]
      },
      {
       "output_type": "stream",
       "stream": "stdout",
       "text": [
        "\n",
        "Wrote 437028 bytes to videos/2015-02-10-20.mp4"
       ]
      },
      {
       "output_type": "stream",
       "stream": "stdout",
       "text": [
        "\n",
        "Wrote 438063 bytes to videos/2015-02-10-21.mp4"
       ]
      },
      {
       "output_type": "stream",
       "stream": "stdout",
       "text": [
        "\n",
        "Wrote 464750 bytes to videos/2015-02-10-22.mp4"
       ]
      },
      {
       "output_type": "stream",
       "stream": "stdout",
       "text": [
        "\n",
        "Wrote 416845 bytes to videos/2015-02-10-23.mp4"
       ]
      },
      {
       "output_type": "stream",
       "stream": "stdout",
       "text": [
        "\n",
        "Wrote 1765923 bytes to videos/2015-02-12-00.mp4"
       ]
      },
      {
       "output_type": "stream",
       "stream": "stdout",
       "text": [
        "\n",
        "Wrote 1848077 bytes to videos/2015-02-12-01.mp4"
       ]
      },
      {
       "output_type": "stream",
       "stream": "stdout",
       "text": [
        "\n",
        "Wrote 1840877 bytes to videos/2015-02-12-02.mp4"
       ]
      },
      {
       "output_type": "stream",
       "stream": "stdout",
       "text": [
        "\n",
        "Wrote 1652299 bytes to videos/2015-02-12-03.mp4"
       ]
      },
      {
       "output_type": "stream",
       "stream": "stdout",
       "text": [
        "\n",
        "Wrote 1754920 bytes to videos/2015-02-12-04.mp4"
       ]
      },
      {
       "output_type": "stream",
       "stream": "stdout",
       "text": [
        "\n",
        "Wrote 1647705 bytes to videos/2015-02-12-05.mp4"
       ]
      },
      {
       "output_type": "stream",
       "stream": "stdout",
       "text": [
        "\n",
        "Wrote 1298615 bytes to videos/2015-02-12-06.mp4"
       ]
      },
      {
       "output_type": "stream",
       "stream": "stdout",
       "text": [
        "\n",
        "Wrote 373291 bytes to videos/2015-02-12-07.mp4"
       ]
      },
      {
       "output_type": "stream",
       "stream": "stdout",
       "text": [
        "\n",
        "Wrote 355793 bytes to videos/2015-02-12-08.mp4"
       ]
      },
      {
       "output_type": "stream",
       "stream": "stdout",
       "text": [
        "\n",
        "Wrote 331984 bytes to videos/2015-02-12-09.mp4"
       ]
      },
      {
       "output_type": "stream",
       "stream": "stdout",
       "text": [
        "\n",
        "Wrote 465413 bytes to videos/2015-02-12-10.mp4"
       ]
      },
      {
       "output_type": "stream",
       "stream": "stdout",
       "text": [
        "\n",
        "Wrote 299398 bytes to videos/2015-02-12-11.mp4"
       ]
      },
      {
       "output_type": "stream",
       "stream": "stdout",
       "text": [
        "\n",
        "Wrote 469301 bytes to videos/2015-02-12-12.mp4"
       ]
      },
      {
       "output_type": "stream",
       "stream": "stdout",
       "text": [
        "\n",
        "Wrote 537275 bytes to videos/2015-02-12-13.mp4"
       ]
      },
      {
       "output_type": "stream",
       "stream": "stdout",
       "text": [
        "\n",
        "Wrote 370997 bytes to videos/2015-02-12-14.mp4"
       ]
      },
      {
       "output_type": "stream",
       "stream": "stdout",
       "text": [
        "\n",
        "Wrote 332154 bytes to videos/2015-02-12-15.mp4"
       ]
      },
      {
       "output_type": "stream",
       "stream": "stdout",
       "text": [
        "\n",
        "Wrote 315665 bytes to videos/2015-02-12-16.mp4"
       ]
      },
      {
       "output_type": "stream",
       "stream": "stdout",
       "text": [
        "\n",
        "Wrote 425627 bytes to videos/2015-02-12-17.mp4"
       ]
      },
      {
       "output_type": "stream",
       "stream": "stdout",
       "text": [
        "\n",
        "Wrote 1495109 bytes to videos/2015-02-12-18.mp4"
       ]
      },
      {
       "output_type": "stream",
       "stream": "stdout",
       "text": [
        "\n",
        "Wrote 2017256 bytes to videos/2015-02-12-19.mp4"
       ]
      },
      {
       "output_type": "stream",
       "stream": "stdout",
       "text": [
        "\n",
        "Wrote 1623537 bytes to videos/2015-02-12-20.mp4"
       ]
      },
      {
       "output_type": "stream",
       "stream": "stdout",
       "text": [
        "\n",
        "Wrote 1716813 bytes to videos/2015-02-12-21.mp4"
       ]
      },
      {
       "output_type": "stream",
       "stream": "stdout",
       "text": [
        "\n",
        "Wrote 1599116 bytes to videos/2015-02-12-22.mp4"
       ]
      },
      {
       "output_type": "stream",
       "stream": "stdout",
       "text": [
        "\n",
        "Wrote 1275746 bytes to videos/2015-02-12-23.mp4"
       ]
      },
      {
       "output_type": "stream",
       "stream": "stdout",
       "text": [
        "\n",
        "Wrote 752566 bytes to videos/2015-02-13-00.mp4"
       ]
      },
      {
       "output_type": "stream",
       "stream": "stdout",
       "text": [
        "\n",
        "Wrote 644987 bytes to videos/2015-02-13-01.mp4"
       ]
      },
      {
       "output_type": "stream",
       "stream": "stdout",
       "text": [
        "\n",
        "Wrote 773700 bytes to videos/2015-02-13-02.mp4"
       ]
      },
      {
       "output_type": "stream",
       "stream": "stdout",
       "text": [
        "\n",
        "Wrote 998822 bytes to videos/2015-02-13-03.mp4"
       ]
      },
      {
       "output_type": "stream",
       "stream": "stdout",
       "text": [
        "\n",
        "Wrote 974039 bytes to videos/2015-02-13-04.mp4"
       ]
      },
      {
       "output_type": "stream",
       "stream": "stdout",
       "text": [
        "\n",
        "Wrote 984018 bytes to videos/2015-02-13-05.mp4"
       ]
      },
      {
       "output_type": "stream",
       "stream": "stdout",
       "text": [
        "\n",
        "Wrote 889450 bytes to videos/2015-02-13-06.mp4"
       ]
      },
      {
       "output_type": "stream",
       "stream": "stdout",
       "text": [
        "\n",
        "Wrote 322250 bytes to videos/2015-02-13-07.mp4"
       ]
      },
      {
       "output_type": "stream",
       "stream": "stdout",
       "text": [
        "\n",
        "Wrote 230447 bytes to videos/2015-02-13-08.mp4"
       ]
      },
      {
       "output_type": "stream",
       "stream": "stdout",
       "text": [
        "\n",
        "Wrote 286937 bytes to videos/2015-02-13-09.mp4"
       ]
      },
      {
       "output_type": "stream",
       "stream": "stdout",
       "text": [
        "\n",
        "Wrote 471292 bytes to videos/2015-02-13-10.mp4"
       ]
      },
      {
       "output_type": "stream",
       "stream": "stdout",
       "text": [
        "\n",
        "Wrote 553424 bytes to videos/2015-02-13-11.mp4"
       ]
      },
      {
       "output_type": "stream",
       "stream": "stdout",
       "text": [
        "\n",
        "Wrote 610200 bytes to videos/2015-02-13-12.mp4"
       ]
      },
      {
       "output_type": "stream",
       "stream": "stdout",
       "text": [
        "\n",
        "Wrote 394260 bytes to videos/2015-02-13-13.mp4"
       ]
      },
      {
       "output_type": "stream",
       "stream": "stdout",
       "text": [
        "\n",
        "Wrote 278811 bytes to videos/2015-02-13-14.mp4"
       ]
      },
      {
       "output_type": "stream",
       "stream": "stdout",
       "text": [
        "\n",
        "Wrote 187859 bytes to videos/2015-02-13-15.mp4"
       ]
      },
      {
       "output_type": "stream",
       "stream": "stdout",
       "text": [
        "\n",
        "Wrote 215252 bytes to videos/2015-02-13-16.mp4"
       ]
      },
      {
       "output_type": "stream",
       "stream": "stdout",
       "text": [
        "\n",
        "Wrote 259313 bytes to videos/2015-02-13-17.mp4"
       ]
      },
      {
       "output_type": "stream",
       "stream": "stdout",
       "text": [
        "\n",
        "Wrote 1235420 bytes to videos/2015-02-13-18.mp4"
       ]
      },
      {
       "output_type": "stream",
       "stream": "stdout",
       "text": [
        "\n",
        "Wrote 1565945 bytes to videos/2015-02-13-19.mp4"
       ]
      },
      {
       "output_type": "stream",
       "stream": "stdout",
       "text": [
        "\n",
        "Wrote 1480655 bytes to videos/2015-02-13-20.mp4"
       ]
      },
      {
       "output_type": "stream",
       "stream": "stdout",
       "text": [
        "\n",
        "Wrote 1591288 bytes to videos/2015-02-13-21.mp4"
       ]
      },
      {
       "output_type": "stream",
       "stream": "stdout",
       "text": [
        "\n",
        "Wrote 1597775 bytes to videos/2015-02-13-22.mp4"
       ]
      },
      {
       "output_type": "stream",
       "stream": "stdout",
       "text": [
        "\n",
        "Wrote 1632608 bytes to videos/2015-02-13-23.mp4"
       ]
      },
      {
       "output_type": "stream",
       "stream": "stdout",
       "text": [
        "\n"
       ]
      }
     ],
     "prompt_number": 42
    },
    {
     "cell_type": "code",
     "collapsed": false,
     "input": [
      "!rsync -av videos tm1:/usr4/web/explorables.cmucreatelab.org/www/unreleased/breathe-project-day-in-the-east-end/main"
     ],
     "language": "python",
     "metadata": {},
     "outputs": [
      {
       "output_type": "stream",
       "stream": "stdout",
       "text": [
        "building file list ... "
       ]
      },
      {
       "output_type": "stream",
       "stream": "stdout",
       "text": [
        "done\r\n",
        "\r\n",
        "sent 4741 bytes  received 20 bytes  9522.00 bytes/sec\r\n",
        "total size is 275558743  speedup is 57878.33\r\n"
       ]
      }
     ],
     "prompt_number": 44
    },
    {
     "cell_type": "code",
     "collapsed": false,
     "input": [],
     "language": "python",
     "metadata": {},
     "outputs": []
    }
   ],
   "metadata": {}
  }
 ]
}